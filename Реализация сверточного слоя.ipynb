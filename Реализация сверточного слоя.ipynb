{
 "cells": [
  {
   "cell_type": "code",
   "execution_count": 1,
   "id": "129dc83d",
   "metadata": {},
   "outputs": [],
   "source": [
    "import torch\n",
    "import numpy as np\n",
    "from abc import ABC, abstractmethod"
   ]
  },
  {
   "cell_type": "code",
   "execution_count": 2,
   "id": "3e879dd4",
   "metadata": {},
   "outputs": [],
   "source": [
    "def calc_out_shape(input_matrix_shape, out_channels, kernel_size, stride, padding):\n",
    "    batch_size, channels_count, input_height, input_width = input_matrix_shape\n",
    "    output_height = (input_height + 2 * padding - (kernel_size - 1) - 1) // stride + 1\n",
    "    output_width = (input_width + 2 * padding - (kernel_size - 1) - 1) // stride + 1\n",
    "\n",
    "    return batch_size, out_channels, output_height, output_width"
   ]
  },
  {
   "cell_type": "code",
   "execution_count": 3,
   "id": "011cb614",
   "metadata": {},
   "outputs": [],
   "source": [
    "class ABCConv2d(ABC):\n",
    "    def __init__(self, in_channels, out_channels, kernel_size, stride):\n",
    "        self.in_channels = in_channels\n",
    "        self.out_channels = out_channels\n",
    "        self.kernel_size = kernel_size\n",
    "        self.stride = stride\n",
    "\n",
    "    def set_kernel(self, kernel):\n",
    "        self.kernel = kernel\n",
    "\n",
    "    @abstractmethod\n",
    "    def __call__(self, input_tensor):\n",
    "        pass"
   ]
  },
  {
   "cell_type": "code",
   "execution_count": 4,
   "id": "cad54de9",
   "metadata": {},
   "outputs": [],
   "source": [
    "def create_and_call_conv2d_layer(conv2d_layer_class, stride, kernel, input_matrix):\n",
    "    out_channels = kernel.shape[0]\n",
    "    in_channels = kernel.shape[1]\n",
    "    kernel_size = kernel.shape[2]\n",
    "\n",
    "    layer = conv2d_layer_class(in_channels, out_channels, kernel_size, stride)\n",
    "    layer.set_kernel(kernel)\n",
    "\n",
    "    return layer(input_matrix)"
   ]
  },
  {
   "cell_type": "code",
   "execution_count": 5,
   "id": "f29b00ef",
   "metadata": {},
   "outputs": [],
   "source": [
    "class Conv2d(ABCConv2d):\n",
    "    def __init__(self, in_channels, out_channels, kernel_size, stride):\n",
    "        self.conv2d = torch.nn.Conv2d(in_channels, out_channels, kernel_size,\n",
    "                                      stride, padding=0, bias=False)\n",
    "\n",
    "    def set_kernel(self, kernel):\n",
    "        self.conv2d.weight.data = kernel\n",
    "\n",
    "    def __call__(self, input_tensor):\n",
    "        return self.conv2d(input_tensor)"
   ]
  },
  {
   "cell_type": "markdown",
   "id": "c13219b2",
   "metadata": {},
   "source": [
    "# Реализация свертки с помощью циклов"
   ]
  },
  {
   "cell_type": "code",
   "execution_count": 6,
   "id": "f75d7e55",
   "metadata": {},
   "outputs": [],
   "source": [
    "def generate_input_data():\n",
    "    n_kernel = int(input('Введите количество фильтров '))\n",
    "    in_channels = int(input('Введите количество слоев в фильтре '))\n",
    "    kernel_size = int(input('Введите размер фильтра '))\n",
    "    \n",
    "    kernel = torch.FloatTensor(np.random.randint(1, 100, n_kernel*in_channels*kernel_size*kernel_size))\\\n",
    "             .reshape(n_kernel, in_channels, kernel_size, kernel_size)\n",
    "    \n",
    "    batch_size = int(input('Введите размер батча '))\n",
    "        \n",
    "    while True:\n",
    "        input_height = int(input('Введите высоту картинки '))\n",
    "        input_width = int(input('Введите ширину картинки '))\n",
    "        if (input_height >= kernel_size) and (input_width >= kernel_size):\n",
    "            break\n",
    "        else:\n",
    "            print('Размер картинки должен быть больше размера фильтра. Повторите ввод.')\n",
    "    \n",
    "    input_tensor = torch.FloatTensor(np.random.randint(1, 100,  batch_size * in_channels * input_height * input_width))\\\n",
    "             .reshape(batch_size, in_channels, input_height, input_width)\n",
    "    \n",
    "    stride = int(input('Введите шаг свертки '))\n",
    "    \n",
    "    return kernel, input_tensor, batch_size, stride, input_height, input_width, in_channels"
   ]
  },
  {
   "cell_type": "code",
   "execution_count": 19,
   "id": "7086c382",
   "metadata": {},
   "outputs": [],
   "source": [
    "# Сверточный слой через циклы.\n",
    "class Conv2dLoop(ABCConv2d):\n",
    "    def __call__(self, input_tensor):\n",
    "        output_tensor = torch.zeros(calc_out_shape(input_tensor.shape, self.out_channels, self.kernel_size, self.stride,\n",
    "                                                    padding=0))\n",
    "        for item in range(output_tensor.shape[0]):\n",
    "            for channel in range(self.out_channels):\n",
    "                for i in range(0, output_tensor.shape[2], self.stride):\n",
    "                    for j in range(0, output_tensor.shape[3], self.stride):\n",
    "                        output_tensor[item][channel][i][j] = (self.kernel[channel] * \n",
    "                                                 input_tensor[item, :, i:i+self.kernel_size, j:j+self.kernel_size]).sum()\n",
    "        return output_tensor"
   ]
  },
  {
   "cell_type": "code",
   "execution_count": 20,
   "id": "2a85868b",
   "metadata": {},
   "outputs": [],
   "source": [
    "def test_conv2d_layer(conv2d_layer_class):\n",
    "    kernel, input_tensor, batch_size, stride, input_height, input_width, in_channels = generate_input_data()\n",
    "\n",
    "    custom_conv2d_out = create_and_call_conv2d_layer(\n",
    "        conv2d_layer_class, stride, kernel, input_tensor)\n",
    "    conv2d_out = create_and_call_conv2d_layer(\n",
    "        Conv2d, stride, kernel, input_tensor)\n",
    "\n",
    "    return torch.allclose(custom_conv2d_out, conv2d_out) \\\n",
    "             and (custom_conv2d_out.shape == conv2d_out.shape)"
   ]
  },
  {
   "cell_type": "code",
   "execution_count": 21,
   "id": "3b8a56c1",
   "metadata": {},
   "outputs": [
    {
     "name": "stdout",
     "output_type": "stream",
     "text": [
      "Введите количество фильтров 1\n",
      "Введите количество слоев в фильтре 3\n",
      "Введите размер фильтра 3\n",
      "Введите размер батча 2\n",
      "Введите высоту картинки 4\n",
      "Введите ширину картинки 4\n",
      "Введите шаг свертки 2\n",
      "True\n"
     ]
    }
   ],
   "source": [
    "print(test_conv2d_layer(Conv2dLoop))"
   ]
  },
  {
   "cell_type": "markdown",
   "id": "7637be49",
   "metadata": {},
   "source": [
    "# Реализация свертки с помощью матричного умножения "
   ]
  },
  {
   "cell_type": "code",
   "execution_count": 27,
   "id": "1baf1aa5",
   "metadata": {},
   "outputs": [],
   "source": [
    "class Conv2dMatrix(ABCConv2d):\n",
    "    def _unsqueeze_kernel(self, torch_input, output_height, output_width):\n",
    "        _, in_channels, in_height, in_width = torch_input.shape\n",
    "        ku_size = [self.out_channels, output_height, output_width, in_channels, in_height, in_width]\n",
    "        kernel_unsqueezed = torch.zeros(ku_size, dtype=torch.float32)\n",
    "        for i in range(output_height):\n",
    "            for j in range(output_width):\n",
    "                h_slice = slice(i*self.stride, i*self.stride+self.kernel_size)\n",
    "                w_slice = slice(j*self.stride, j*self.stride+self.kernel_size)\n",
    "                kernel_unsqueezed[:, i, j, :, h_slice, w_slice] = self.kernel.type(torch.float32)\n",
    "        return kernel_unsqueezed.view(-1, in_channels*in_height*in_width)\n",
    "\n",
    "    def __call__(self, torch_input):\n",
    "        batch_size, out_channels, output_height, output_width\\\n",
    "            = calc_out_shape(\n",
    "                input_matrix_shape=torch_input.shape,\n",
    "                out_channels=self.kernel.shape[0],\n",
    "                kernel_size=self.kernel.shape[2],\n",
    "                stride=self.stride,\n",
    "                padding=0)\n",
    "\n",
    "        kernel_unsqueezed = self._unsqueeze_kernel(torch_input, output_height, output_width)\n",
    "        result = kernel_unsqueezed @ torch_input.view((batch_size, -1)).permute(1, 0)\n",
    "        return result.permute(1, 0).view((batch_size, self.out_channels,\n",
    "                                          output_height, output_width))"
   ]
  },
  {
   "cell_type": "code",
   "execution_count": 28,
   "id": "7aa23641",
   "metadata": {},
   "outputs": [
    {
     "name": "stdout",
     "output_type": "stream",
     "text": [
      "Введите количество фильтров 2\n",
      "Введите количество слоев в фильтре 3\n",
      "Введите размер фильтра 4\n",
      "Введите размер батча 5\n",
      "Введите высоту картинки 5\n",
      "Введите ширину картинки 5\n",
      "Введите шаг свертки 1\n",
      "True\n"
     ]
    }
   ],
   "source": [
    "print(test_conv2d_layer(Conv2dMatrix))"
   ]
  },
  {
   "cell_type": "code",
   "execution_count": null,
   "id": "04d626f7",
   "metadata": {},
   "outputs": [],
   "source": []
  }
 ],
 "metadata": {
  "kernelspec": {
   "display_name": "Python 3",
   "language": "python",
   "name": "python3"
  },
  "language_info": {
   "codemirror_mode": {
    "name": "ipython",
    "version": 3
   },
   "file_extension": ".py",
   "mimetype": "text/x-python",
   "name": "python",
   "nbconvert_exporter": "python",
   "pygments_lexer": "ipython3",
   "version": "3.8.8"
  }
 },
 "nbformat": 4,
 "nbformat_minor": 5
}
